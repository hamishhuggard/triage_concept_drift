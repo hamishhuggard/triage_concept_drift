{
 "cells": [
  {
   "cell_type": "markdown",
   "metadata": {},
   "source": [
    "# A Primer on Concept Drift\n",
    "\n",
    "*Drift* is a change in the distribution of a data stream. A stream $z_1,z_2,\\dots,z_n$ is said to experience drift when\n",
    "$$\n",
    "P_t(z) \\ne P_{t'}(z)\n",
    "$$\n",
    "for some $t$ and $t'$.\n",
    "\n",
    "*Concept drift* is any change in the joint distribution of features and labels (a \"concept\" is such a joint distribution).\n",
    "$$\n",
    "P_t(x,y) \\ne P_{t'}(x,y).\n",
    "$$\n",
    "However, simply learning that concept drift has occurred is not very helpful.\n",
    "This package therefore separately detects three kinds of concept drift.\n",
    "\n",
    "First, there is *feature drift*, which is a drift in the feature space:\n",
    "$$\n",
    "P_t(x) \\ne P_{t'}(x).\n",
    "$$\n",
    "\n",
    "Second, there is *label drift*, which is a drift in the label space:\n",
    "$$\n",
    "P_t(y) \\ne P_{t'}(y).\n",
    "$$\n",
    "\n",
    "Third, there is *real drift*, which is a drift in conditional distribution of labels on features:\n",
    "$$\n",
    "P_t(y|x) \\ne P_{t'}(y|x)\n",
    "$$\n",
    "Most of the time it is only real drift that requires retraining."
   ]
  }
 ],
 "metadata": {
  "kernelspec": {
   "display_name": "Python [conda env:triage_drift_env]",
   "language": "python",
   "name": "conda-env-triage_drift_env-py"
  },
  "language_info": {
   "codemirror_mode": {
    "name": "ipython",
    "version": 3
   },
   "file_extension": ".py",
   "mimetype": "text/x-python",
   "name": "python",
   "nbconvert_exporter": "python",
   "pygments_lexer": "ipython3",
   "version": "3.8.1"
  }
 },
 "nbformat": 4,
 "nbformat_minor": 2
}
