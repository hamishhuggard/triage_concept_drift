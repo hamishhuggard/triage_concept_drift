{
 "cells": [
  {
   "cell_type": "markdown",
   "metadata": {},
   "source": [
    "# Triage Drift Detector Demo\n",
    "\n",
    "In this notebook, I will illustrate how to use the traige drift detector using a simulated clinical environment."
   ]
  },
  {
   "cell_type": "code",
   "execution_count": 1,
   "metadata": {},
   "outputs": [],
   "source": [
    "import pandas as pd\n",
    "import numpy as np\n",
    "import scipy.stats as stats\n",
    "import random\n",
    "import wasabi"
   ]
  },
  {
   "cell_type": "markdown",
   "metadata": {},
   "source": [
    "The key object we want to use is `MultiDriftDetector`."
   ]
  },
  {
   "cell_type": "code",
   "execution_count": 2,
   "metadata": {},
   "outputs": [],
   "source": [
    "from triage_detector import triage_detector\n",
    "from importlib import reload\n",
    "reload(triage_detector)\n",
    "MultiDriftDetector = triage_detector.MultiDriftDetector"
   ]
  },
  {
   "cell_type": "markdown",
   "metadata": {},
   "source": [
    "## Set up the Simulated Environment\n",
    "\n",
    "We'll use a simple referral template with 10 features. \n",
    "\n",
    "I'm still working on compatability with numeric, categorical, and sequential features."
   ]
  },
  {
   "cell_type": "code",
   "execution_count": 43,
   "metadata": {},
   "outputs": [
    {
     "data": {
      "text/plain": [
       "['Feature0',\n",
       " 'Feature1',\n",
       " 'Feature2',\n",
       " 'Feature3',\n",
       " 'Feature4',\n",
       " 'Feature5',\n",
       " 'Feature6',\n",
       " 'Feature7',\n",
       " 'Feature8',\n",
       " 'Feature9']"
      ]
     },
     "execution_count": 43,
     "metadata": {},
     "output_type": "execute_result"
    }
   ],
   "source": [
    "n_features = 10\n",
    "feature_names = [ f'Feature{i}' for i in range(n_features) ]\n",
    "feature_names"
   ]
  },
  {
   "cell_type": "markdown",
   "metadata": {},
   "source": [
    "And we'll have a label set of 4 priority levels."
   ]
  },
  {
   "cell_type": "code",
   "execution_count": 44,
   "metadata": {},
   "outputs": [
    {
     "data": {
      "text/plain": [
       "['Priority0', 'Priority1', 'Priority2', 'Priority3']"
      ]
     },
     "execution_count": 44,
     "metadata": {},
     "output_type": "execute_result"
    }
   ],
   "source": [
    "n_labels = 4\n",
    "label_names = [ f'Priority{i}' for i in range(n_labels) ]\n",
    "label_names"
   ]
  },
  {
   "cell_type": "markdown",
   "metadata": {},
   "source": [
    "We'll simulate GPs making referrals by randomly assigning feature values with a probability of `FeatureN` being `True` of 0.2."
   ]
  },
  {
   "cell_type": "code",
   "execution_count": 45,
   "metadata": {},
   "outputs": [
    {
     "data": {
      "text/plain": [
       "array([0, 0, 0, 0, 0, 0, 0, 0, 1, 1])"
      ]
     },
     "execution_count": 45,
     "metadata": {},
     "output_type": "execute_result"
    }
   ],
   "source": [
    "class GP:\n",
    "    feature_rate = 0.2\n",
    "    def make_referral(self):\n",
    "        return stats.bernoulli.rvs(p=GP.feature_rate, size=n_features)\n",
    "\n",
    "gp = GP()\n",
    "ref = gp.make_referral()\n",
    "ref"
   ]
  },
  {
   "cell_type": "markdown",
   "metadata": {},
   "source": [
    "We'll simulate a model predicting a priority label by giving 90% probability to `Priority0`, and equal probability to the other labels."
   ]
  },
  {
   "cell_type": "code",
   "execution_count": 46,
   "metadata": {},
   "outputs": [
    {
     "data": {
      "text/plain": [
       "[0.9, 0.03333333333333333, 0.03333333333333333, 0.03333333333333333]"
      ]
     },
     "execution_count": 46,
     "metadata": {},
     "output_type": "execute_result"
    }
   ],
   "source": [
    "class Model:\n",
    "    only_label = 0\n",
    "    def predict(self, x):\n",
    "        prediction = [0.1/(n_labels-1)] * n_labels\n",
    "        prediction[Model.only_label] = 0.9\n",
    "        return prediction\n",
    "    \n",
    "model = Model()\n",
    "model.predict(ref)"
   ]
  },
  {
   "cell_type": "markdown",
   "metadata": {},
   "source": [
    "We'll simulate clinicians labelling the referrals by always assigning `Priority0` to each referral."
   ]
  },
  {
   "cell_type": "code",
   "execution_count": 47,
   "metadata": {},
   "outputs": [
    {
     "data": {
      "text/plain": [
       "'Priority0'"
      ]
     },
     "execution_count": 47,
     "metadata": {},
     "output_type": "execute_result"
    }
   ],
   "source": [
    "# Clinicians always give the lowest priority.\n",
    "class Clinician:\n",
    "    only_label = label_names[0]\n",
    "    def label(self, instance):\n",
    "        return Clinician.only_label\n",
    "\n",
    "clinician = Clinician()\n",
    "clinician.label(ref)"
   ]
  },
  {
   "cell_type": "markdown",
   "metadata": {},
   "source": [
    "## Set up the drift detector\n",
    "\n",
    "The first thing we need to do is specify what should happen when a drift is detected. \n",
    "\n",
    "For this demo we'll simply print the message describing what the drift detector has detected."
   ]
  },
  {
   "cell_type": "code",
   "execution_count": 48,
   "metadata": {},
   "outputs": [
    {
     "name": "stdout",
     "output_type": "stream",
     "text": [
      "\u001b[38;5;4mℹ Somthing interesting has happened.\u001b[0m\n"
     ]
    }
   ],
   "source": [
    "msg = wasabi.Printer()\n",
    "\n",
    "def display_message(drift_message):\n",
    "    msg.info(drift_message)\n",
    "    \n",
    "display_message('Somthing interesting has happened.')"
   ]
  },
  {
   "cell_type": "markdown",
   "metadata": {},
   "source": [
    "The drift detector writes it's state to a bunch of files in a directory. This allows the dash app to display the history of the detector, and the detector to be restored if its session is interrupted. The directory we will write to is:"
   ]
  },
  {
   "cell_type": "code",
   "execution_count": 49,
   "metadata": {},
   "outputs": [],
   "source": [
    "write_dir = './data/demo'"
   ]
  },
  {
   "cell_type": "markdown",
   "metadata": {},
   "source": [
    "We can now instantiate the detector."
   ]
  },
  {
   "cell_type": "code",
   "execution_count": 50,
   "metadata": {},
   "outputs": [],
   "source": [
    "# Instantiate a TraigeDetector object\n",
    "detector = MultiDriftDetector(\n",
    "    write_dir = write_dir,\n",
    "    drift_action = display_message\n",
    ")"
   ]
  },
  {
   "cell_type": "markdown",
   "metadata": {},
   "source": [
    "We need to let the detector know what are the features called, and what are the possible labels."
   ]
  },
  {
   "cell_type": "code",
   "execution_count": 51,
   "metadata": {},
   "outputs": [],
   "source": [
    "# Specify the features\n",
    "detector.set_features(feature_names)\n",
    "\n",
    "# Specify the labels\n",
    "detector.set_labels(label_names)"
   ]
  },
  {
   "cell_type": "markdown",
   "metadata": {},
   "source": [
    "## Begin the Simulation\n",
    "\n",
    "We need to give each referral an ID so that documents, predictions, and labels can be matched up. For simplicity, we'll give the $n$-th created document an id of $n$. We'll use a variable `id_count` to keep track of what the next id should be.\n",
    "\n",
    "All the referral documents which haven't yet been given a label by a clinician will be stored up in a list called `backlog`."
   ]
  },
  {
   "cell_type": "code",
   "execution_count": 52,
   "metadata": {},
   "outputs": [],
   "source": [
    "id_count = 0\n",
    "backlog = []"
   ]
  },
  {
   "cell_type": "markdown",
   "metadata": {},
   "source": [
    "We'll create a function `new_referral()` to simulate the following actions:\n",
    " * a GP makes a new referral\n",
    " * the model predicts the priority label for this referral\n",
    " * the new referral document and prediction are registered with the drift detector"
   ]
  },
  {
   "cell_type": "code",
   "execution_count": 53,
   "metadata": {},
   "outputs": [],
   "source": [
    "def new_referral():    \n",
    "    global backlog, id_count\n",
    "    \n",
    "    # A GP makes a new referral and the model predicts a triage label.\n",
    "    ref = gp.make_referral()\n",
    "    pred = model.predict(ref)\n",
    "\n",
    "    # We need to register the new referral and prediction with the drift detector.\n",
    "    detector.add_instance(ref, instance_id=id_count, description=f'ID={id_count}')\n",
    "    detector.add_prediction(pred, instance_id=id_count, description=f'ID={id_count}')\n",
    "\n",
    "    # Print an update\n",
    "    print(f'A GP has created a referral with id {id_count}.')\n",
    "\n",
    "    # Add the new referral to the backlog and update the id counter\n",
    "    backlog.append( (id_count, ref) )\n",
    "    id_count += 1"
   ]
  },
  {
   "cell_type": "markdown",
   "metadata": {},
   "source": [
    "We'll start the simulation with an initial backlog of 20 referral documents."
   ]
  },
  {
   "cell_type": "code",
   "execution_count": 54,
   "metadata": {},
   "outputs": [
    {
     "name": "stdout",
     "output_type": "stream",
     "text": [
      "A GP has created a referral with id 0.\n",
      "A GP has created a referral with id 1.\n",
      "A GP has created a referral with id 2.\n",
      "A GP has created a referral with id 3.\n",
      "A GP has created a referral with id 4.\n",
      "A GP has created a referral with id 5.\n",
      "A GP has created a referral with id 6.\n",
      "A GP has created a referral with id 7.\n",
      "A GP has created a referral with id 8.\n",
      "A GP has created a referral with id 9.\n",
      "A GP has created a referral with id 10.\n",
      "A GP has created a referral with id 11.\n",
      "A GP has created a referral with id 12.\n",
      "A GP has created a referral with id 13.\n",
      "A GP has created a referral with id 14.\n",
      "A GP has created a referral with id 15.\n",
      "A GP has created a referral with id 16.\n",
      "A GP has created a referral with id 17.\n",
      "A GP has created a referral with id 18.\n",
      "A GP has created a referral with id 19.\n"
     ]
    }
   ],
   "source": [
    "for i in range(20):\n",
    "    new_referral()"
   ]
  },
  {
   "cell_type": "markdown",
   "metadata": {},
   "source": [
    "We'll use a function `new_label()` to simulate the following steps:\n",
    " * a clinician takes a referral from the backlog and labels it\n",
    " * the new label is registered with the drift detector"
   ]
  },
  {
   "cell_type": "code",
   "execution_count": 55,
   "metadata": {},
   "outputs": [
    {
     "name": "stdout",
     "output_type": "stream",
     "text": [
      "A clincian has labelled a referral with id 6.\n"
     ]
    }
   ],
   "source": [
    "def new_label():\n",
    "    global backlog\n",
    "    \n",
    "    # If the backlog is empty then do nothing\n",
    "    if len(backlog)==0:\n",
    "        return\n",
    "    \n",
    "    # Randomly choose a referral and remove it from the backlog\n",
    "    i = random.randrange(len(backlog))\n",
    "    (ref_id, ref) = backlog[i]\n",
    "    del(backlog[i])\n",
    "\n",
    "    # Label the referral and register it\n",
    "    label = clinician.label(ref)\n",
    "    detector.add_label(label, instance_id=ref_id, description=f'ID={ref_id}')\n",
    "\n",
    "    # Print an update\n",
    "    print(f'A clincian has labelled a referral with id {ref_id}.')\n",
    "    \n",
    "new_label()"
   ]
  },
  {
   "cell_type": "markdown",
   "metadata": {},
   "source": [
    "Let's now simulate 100 timesteps where either a new referral is sent or a clinician labels a document (with equal probability)."
   ]
  },
  {
   "cell_type": "code",
   "execution_count": 56,
   "metadata": {},
   "outputs": [
    {
     "name": "stdout",
     "output_type": "stream",
     "text": [
      "A GP has created a referral with id 20.\n",
      "A GP has created a referral with id 21.\n",
      "A GP has created a referral with id 22.\n",
      "A GP has created a referral with id 23.\n",
      "A GP has created a referral with id 24.\n",
      "A GP has created a referral with id 25.\n",
      "A clincian has labelled a referral with id 20.\n",
      "A GP has created a referral with id 26.\n",
      "A clincian has labelled a referral with id 22.\n",
      "A GP has created a referral with id 27.\n",
      "A clincian has labelled a referral with id 9.\n",
      "A clincian has labelled a referral with id 13.\n",
      "A clincian has labelled a referral with id 25.\n",
      "A clincian has labelled a referral with id 27.\n",
      "A clincian has labelled a referral with id 11.\n",
      "A clincian has labelled a referral with id 15.\n",
      "A GP has created a referral with id 28.\n",
      "A GP has created a referral with id 29.\n",
      "A GP has created a referral with id 30.\n",
      "A clincian has labelled a referral with id 14.\n",
      "A GP has created a referral with id 31.\n",
      "A GP has created a referral with id 32.\n",
      "A GP has created a referral with id 33.\n",
      "A clincian has labelled a referral with id 32.\n",
      "A GP has created a referral with id 34.\n",
      "A GP has created a referral with id 35.\n",
      "A GP has created a referral with id 36.\n",
      "A clincian has labelled a referral with id 10.\n",
      "A GP has created a referral with id 37.\n",
      "A clincian has labelled a referral with id 31.\n",
      "A GP has created a referral with id 38.\n",
      "A GP has created a referral with id 39.\n",
      "A GP has created a referral with id 40.\n",
      "A GP has created a referral with id 41.\n",
      "A clincian has labelled a referral with id 39.\n",
      "A GP has created a referral with id 42.\n",
      "A GP has created a referral with id 43.\n",
      "A clincian has labelled a referral with id 18.\n",
      "A GP has created a referral with id 44.\n",
      "A GP has created a referral with id 45.\n",
      "A GP has created a referral with id 46.\n",
      "A clincian has labelled a referral with id 21.\n",
      "A GP has created a referral with id 47.\n",
      "A GP has created a referral with id 48.\n",
      "A GP has created a referral with id 49.\n",
      "A clincian has labelled a referral with id 41.\n",
      "A GP has created a referral with id 50.\n",
      "A clincian has labelled a referral with id 40.\n",
      "A GP has created a referral with id 51.\n",
      "A GP has created a referral with id 52.\n",
      "A GP has created a referral with id 53.\n",
      "A clincian has labelled a referral with id 44.\n",
      "A GP has created a referral with id 54.\n",
      "A clincian has labelled a referral with id 2.\n",
      "A GP has created a referral with id 55.\n",
      "A GP has created a referral with id 56.\n",
      "A GP has created a referral with id 57.\n",
      "A clincian has labelled a referral with id 1.\n",
      "A clincian has labelled a referral with id 16.\n",
      "A GP has created a referral with id 58.\n",
      "A clincian has labelled a referral with id 5.\n",
      "A clincian has labelled a referral with id 38.\n",
      "A clincian has labelled a referral with id 58.\n",
      "A clincian has labelled a referral with id 51.\n",
      "A clincian has labelled a referral with id 35.\n",
      "A GP has created a referral with id 59.\n",
      "A clincian has labelled a referral with id 50.\n",
      "A clincian has labelled a referral with id 36.\n",
      "A GP has created a referral with id 60.\n",
      "A GP has created a referral with id 61.\n",
      "A GP has created a referral with id 62.\n",
      "A clincian has labelled a referral with id 46.\n",
      "A GP has created a referral with id 63.\n",
      "A GP has created a referral with id 64.\n",
      "A clincian has labelled a referral with id 52.\n",
      "A GP has created a referral with id 65.\n",
      "A clincian has labelled a referral with id 28.\n",
      "A GP has created a referral with id 66.\n",
      "A clincian has labelled a referral with id 30.\n",
      "A clincian has labelled a referral with id 34.\n",
      "A GP has created a referral with id 67.\n",
      "A clincian has labelled a referral with id 37.\n",
      "A clincian has labelled a referral with id 62.\n",
      "A GP has created a referral with id 68.\n",
      "A clincian has labelled a referral with id 26.\n",
      "A GP has created a referral with id 69.\n",
      "A GP has created a referral with id 70.\n",
      "A clincian has labelled a referral with id 61.\n",
      "A GP has created a referral with id 71.\n",
      "A GP has created a referral with id 72.\n",
      "A GP has created a referral with id 73.\n",
      "A clincian has labelled a referral with id 64.\n",
      "A clincian has labelled a referral with id 53.\n",
      "A clincian has labelled a referral with id 57.\n",
      "A GP has created a referral with id 74.\n",
      "A clincian has labelled a referral with id 47.\n",
      "A GP has created a referral with id 75.\n",
      "A GP has created a referral with id 76.\n",
      "A GP has created a referral with id 77.\n",
      "A clincian has labelled a referral with id 3.\n"
     ]
    }
   ],
   "source": [
    "for t in range(100):\n",
    "    if random.random() < 0.5:\n",
    "        new_referral()\n",
    "    else:\n",
    "        new_label()"
   ]
  },
  {
   "cell_type": "markdown",
   "metadata": {},
   "source": [
    "Let's look at the status of the detector."
   ]
  },
  {
   "cell_type": "code",
   "execution_count": 57,
   "metadata": {},
   "outputs": [
    {
     "name": "stdout",
     "output_type": "stream",
     "text": [
      "\u001b[38;5;2m✔ Loss distribution normal.\u001b[0m\n",
      "\u001b[38;5;2m✔ Feature distribution normal.\u001b[0m\n",
      "\u001b[38;5;2m✔ Label distribution normal.\u001b[0m\n"
     ]
    }
   ],
   "source": [
    "detector.get_status()"
   ]
  },
  {
   "cell_type": "markdown",
   "metadata": {},
   "source": [
    "Nothing detected so far. I'll describe what each of these lines means further on in this notebook."
   ]
  },
  {
   "cell_type": "markdown",
   "metadata": {},
   "source": [
    "## Feature Drift\n",
    "\n",
    "We now simulate a \"feature drift\". That is, a change in the distribution of the features $P(x)$.\n",
    "\n",
    "In the clinical setting, this may indicate:\n",
    " * the demographics of the population have changed\n",
    " * some condition has increased/decreased in the population\n",
    " \n",
    "A feature drift may or may not require model retraining. On the one hand, the decision boundary won't change. On the other hand, the accuracy of the model *can* change.\n",
    " \n",
    "We'll simulate feature drift by increasing the rate that clinicians assign positive values to features."
   ]
  },
  {
   "cell_type": "code",
   "execution_count": 58,
   "metadata": {},
   "outputs": [],
   "source": [
    "GP.feature_rate = 0.6"
   ]
  },
  {
   "cell_type": "markdown",
   "metadata": {},
   "source": [
    "Let's run another 100 timesteps."
   ]
  },
  {
   "cell_type": "code",
   "execution_count": 59,
   "metadata": {},
   "outputs": [
    {
     "name": "stdout",
     "output_type": "stream",
     "text": [
      "A clincian has labelled a referral with id 77.\n",
      "A GP has created a referral with id 78.\n",
      "A clincian has labelled a referral with id 71.\n",
      "A GP has created a referral with id 79.\n",
      "A GP has created a referral with id 80.\n",
      "A GP has created a referral with id 81.\n",
      "A clincian has labelled a referral with id 72.\n",
      "A GP has created a referral with id 82.\n",
      "\u001b[38;5;4mℹ The status of Feature4 has changed to\n",
      "\u001b[1;38;5;16;48;5;1mDRIFT\u001b[0m\u001b[0m\n",
      "\u001b[38;5;4mℹ The status of Feature8 has changed to\n",
      "\u001b[1;38;5;16;48;5;3mWARNING\u001b[0m\u001b[0m\n",
      "\u001b[38;5;4mℹ The status of Feature9 has changed to\n",
      "\u001b[1;38;5;16;48;5;1mDRIFT\u001b[0m\u001b[0m\n",
      "A GP has created a referral with id 83.\n",
      "A clincian has labelled a referral with id 66.\n",
      "\u001b[38;5;4mℹ The status of Feature8 has changed to\n",
      "\u001b[1;38;5;16;48;5;1mDRIFT\u001b[0m\u001b[0m\n",
      "A GP has created a referral with id 84.\n",
      "A GP has created a referral with id 85.\n",
      "A clincian has labelled a referral with id 63.\n",
      "A GP has created a referral with id 86.\n",
      "A GP has created a referral with id 87.\n",
      "A clincian has labelled a referral with id 79.\n",
      "\u001b[38;5;4mℹ The status of Feature0 has changed to\n",
      "\u001b[1;38;5;16;48;5;3mWARNING\u001b[0m\u001b[0m\n",
      "A GP has created a referral with id 88.\n",
      "A clincian has labelled a referral with id 75.\n",
      "A clincian has labelled a referral with id 19.\n",
      "A clincian has labelled a referral with id 65.\n",
      "A clincian has labelled a referral with id 0.\n",
      "A clincian has labelled a referral with id 23.\n",
      "A clincian has labelled a referral with id 55.\n",
      "A clincian has labelled a referral with id 86.\n",
      "A clincian has labelled a referral with id 67.\n",
      "A clincian has labelled a referral with id 29.\n",
      "\u001b[38;5;4mℹ The status of Feature0 has changed to\n",
      "\u001b[1;38;5;16;48;5;1mDRIFT\u001b[0m\u001b[0m\n",
      "\u001b[38;5;4mℹ The status of Feature6 has changed to\n",
      "\u001b[1;38;5;16;48;5;3mWARNING\u001b[0m\u001b[0m\n",
      "\u001b[38;5;4mℹ The status of Feature7 has changed to\n",
      "\u001b[1;38;5;16;48;5;3mWARNING\u001b[0m\u001b[0m\n",
      "A GP has created a referral with id 89.\n",
      "A clincian has labelled a referral with id 82.\n",
      "\u001b[38;5;4mℹ The status of Feature6 has changed to\n",
      "\u001b[1;38;5;16;48;5;2mNORMAL\u001b[0m\u001b[0m\n",
      "\u001b[38;5;4mℹ The status of Feature7 has changed to\n",
      "\u001b[1;38;5;16;48;5;1mDRIFT\u001b[0m\u001b[0m\n",
      "A GP has created a referral with id 90.\n",
      "A clincian has labelled a referral with id 7.\n",
      "A clincian has labelled a referral with id 49.\n",
      "A clincian has labelled a referral with id 45.\n",
      "A clincian has labelled a referral with id 83.\n",
      "A GP has created a referral with id 91.\n",
      "A GP has created a referral with id 92.\n",
      "A clincian has labelled a referral with id 88.\n",
      "A GP has created a referral with id 93.\n",
      "A GP has created a referral with id 94.\n",
      "A clincian has labelled a referral with id 93.\n",
      "A clincian has labelled a referral with id 8.\n",
      "A GP has created a referral with id 95.\n",
      "A GP has created a referral with id 96.\n",
      "A GP has created a referral with id 97.\n",
      "A GP has created a referral with id 98.\n",
      "A clincian has labelled a referral with id 81.\n",
      "A clincian has labelled a referral with id 96.\n",
      "A clincian has labelled a referral with id 4.\n",
      "A clincian has labelled a referral with id 69.\n",
      "A clincian has labelled a referral with id 76.\n",
      "A GP has created a referral with id 99.\n",
      "A clincian has labelled a referral with id 73.\n",
      "A clincian has labelled a referral with id 43.\n",
      "A clincian has labelled a referral with id 70.\n",
      "A clincian has labelled a referral with id 59.\n",
      "A GP has created a referral with id 100.\n",
      "A clincian has labelled a referral with id 78.\n",
      "A clincian has labelled a referral with id 24.\n",
      "A clincian has labelled a referral with id 54.\n",
      "A clincian has labelled a referral with id 56.\n",
      "A clincian has labelled a referral with id 17.\n",
      "A clincian has labelled a referral with id 91.\n",
      "\u001b[38;5;4mℹ The status of Feature6 has changed to\n",
      "\u001b[1;38;5;16;48;5;3mWARNING\u001b[0m\u001b[0m\n",
      "A GP has created a referral with id 101.\n",
      "A clincian has labelled a referral with id 60.\n",
      "A clincian has labelled a referral with id 84.\n",
      "\u001b[38;5;4mℹ The status of Feature2 has changed to\n",
      "\u001b[1;38;5;16;48;5;3mWARNING\u001b[0m\u001b[0m\n",
      "\u001b[38;5;4mℹ The status of Feature6 has changed to\n",
      "\u001b[1;38;5;16;48;5;2mNORMAL\u001b[0m\u001b[0m\n",
      "A GP has created a referral with id 102.\n",
      "A clincian has labelled a referral with id 94.\n",
      "\u001b[38;5;4mℹ The status of Feature2 has changed to\n",
      "\u001b[1;38;5;16;48;5;1mDRIFT\u001b[0m\u001b[0m\n",
      "A GP has created a referral with id 103.\n",
      "A clincian has labelled a referral with id 90.\n",
      "A GP has created a referral with id 104.\n",
      "\u001b[38;5;4mℹ The status of Feature6 has changed to\n",
      "\u001b[1;38;5;16;48;5;3mWARNING\u001b[0m\u001b[0m\n",
      "A GP has created a referral with id 105.\n",
      "A clincian has labelled a referral with id 100.\n",
      "A clincian has labelled a referral with id 103.\n",
      "\u001b[38;5;4mℹ The status of Feature6 has changed to\n",
      "\u001b[1;38;5;16;48;5;1mDRIFT\u001b[0m\u001b[0m\n",
      "A GP has created a referral with id 106.\n",
      "A GP has created a referral with id 107.\n",
      "\u001b[38;5;4mℹ The status of Feature1 has changed to\n",
      "\u001b[1;38;5;16;48;5;3mWARNING\u001b[0m\u001b[0m\n",
      "A GP has created a referral with id 108.\n",
      "\u001b[38;5;4mℹ The status of Feature1 has changed to\n",
      "\u001b[1;38;5;16;48;5;2mNORMAL\u001b[0m\u001b[0m\n",
      "A GP has created a referral with id 109.\n",
      "A GP has created a referral with id 110.\n",
      "A GP has created a referral with id 111.\n",
      "A GP has created a referral with id 112.\n",
      "A GP has created a referral with id 113.\n",
      "\u001b[38;5;4mℹ The status of Feature1 has changed to\n",
      "\u001b[1;38;5;16;48;5;3mWARNING\u001b[0m\u001b[0m\n",
      "A GP has created a referral with id 114.\n",
      "A clincian has labelled a referral with id 104.\n",
      "A GP has created a referral with id 115.\n",
      "A clincian has labelled a referral with id 89.\n",
      "A GP has created a referral with id 116.\n",
      "A clincian has labelled a referral with id 115.\n",
      "A GP has created a referral with id 117.\n",
      "\u001b[38;5;4mℹ The status of Feature1 has changed to\n",
      "\u001b[1;38;5;16;48;5;1mDRIFT\u001b[0m\u001b[0m\n",
      "\u001b[38;5;4mℹ The status of Feature3 has changed to\n",
      "\u001b[1;38;5;16;48;5;3mWARNING\u001b[0m\u001b[0m\n",
      "A GP has created a referral with id 118.\n",
      "A clincian has labelled a referral with id 116.\n",
      "\u001b[38;5;4mℹ The status of Feature3 has changed to\n",
      "\u001b[1;38;5;16;48;5;2mNORMAL\u001b[0m\u001b[0m\n",
      "A GP has created a referral with id 119.\n",
      "A clincian has labelled a referral with id 42.\n",
      "A GP has created a referral with id 120.\n",
      "A GP has created a referral with id 121.\n",
      "A clincian has labelled a referral with id 68.\n",
      "\u001b[38;5;4mℹ The status of Feature3 has changed to\n",
      "\u001b[1;38;5;16;48;5;3mWARNING\u001b[0m\u001b[0m\n",
      "A GP has created a referral with id 122.\n",
      "\u001b[38;5;4mℹ The status of Feature3 has changed to\n",
      "\u001b[1;38;5;16;48;5;2mNORMAL\u001b[0m\u001b[0m\n",
      "A GP has created a referral with id 123.\n",
      "A clincian has labelled a referral with id 101.\n",
      "\u001b[38;5;4mℹ The status of Feature3 has changed to\n",
      "\u001b[1;38;5;16;48;5;3mWARNING\u001b[0m\u001b[0m\n",
      "A GP has created a referral with id 124.\n",
      "\u001b[38;5;4mℹ The status of Feature3 has changed to\n",
      "\u001b[1;38;5;16;48;5;1mDRIFT\u001b[0m\u001b[0m\n",
      "A GP has created a referral with id 125.\n",
      "\u001b[38;5;4mℹ The status of Feature5 has changed to\n",
      "\u001b[1;38;5;16;48;5;3mWARNING\u001b[0m\u001b[0m\n",
      "A GP has created a referral with id 126.\n"
     ]
    }
   ],
   "source": [
    "for t in range(100):\n",
    "    if random.random() < 0.5:\n",
    "        new_referral()\n",
    "    else:\n",
    "        new_label()"
   ]
  },
  {
   "cell_type": "markdown",
   "metadata": {},
   "source": [
    "We see that the detector has sent several messages describing changes in the distribution of the features.\n",
    "\n",
    "Note that a `WARNING` signal is sent when drift is suspected but not yet confirmed."
   ]
  },
  {
   "cell_type": "code",
   "execution_count": 60,
   "metadata": {},
   "outputs": [
    {
     "name": "stdout",
     "output_type": "stream",
     "text": [
      "\u001b[38;5;2m✔ Loss distribution normal.\u001b[0m\n",
      "\u001b[38;5;1m✘ Feature drift detected on the following: Feature0, Feature1,\n",
      "Feature2, Feature3, Feature4, Feature6, Feature7, Feature8, Feature9\u001b[0m\n",
      "\u001b[38;5;2m✔ Label distribution normal.\u001b[0m\n"
     ]
    }
   ],
   "source": [
    "detector.get_status()"
   ]
  },
  {
   "cell_type": "markdown",
   "metadata": {},
   "source": [
    "The detector has detected drift for all of the features except `Feature5`."
   ]
  },
  {
   "cell_type": "markdown",
   "metadata": {},
   "source": [
    "## Concept Drift\n",
    "\n",
    "We'll now simulate concept drift, that is a change in the distribution $P(y|x)$. In this demo, $y$ and $x$ are indepedent, so we need only change $P(y)$. A change in $P(y)$ is label drift, which MultiDriftDetector also detects.\n",
    "\n",
    "We'll simulate concept drift (and label drift) by changing the label which the model assigns 90% probability from `Priority0` to `Priority1`."
   ]
  },
  {
   "cell_type": "code",
   "execution_count": 61,
   "metadata": {},
   "outputs": [
    {
     "data": {
      "text/plain": [
       "[0.03333333333333333, 0.9, 0.03333333333333333, 0.03333333333333333]"
      ]
     },
     "execution_count": 61,
     "metadata": {},
     "output_type": "execute_result"
    }
   ],
   "source": [
    "Model.only_label = 1\n",
    "model.predict(None)"
   ]
  },
  {
   "cell_type": "markdown",
   "metadata": {},
   "source": [
    "We now run another 100 timesteps."
   ]
  },
  {
   "cell_type": "code",
   "execution_count": 62,
   "metadata": {},
   "outputs": [
    {
     "name": "stdout",
     "output_type": "stream",
     "text": [
      "A clincian has labelled a referral with id 126.\n",
      "A GP has created a referral with id 127.\n",
      "\u001b[38;5;4mℹ The status of Feature5 has changed to\n",
      "\u001b[1;38;5;16;48;5;1mDRIFT\u001b[0m\u001b[0m\n",
      "A GP has created a referral with id 128.\n",
      "A GP has created a referral with id 129.\n",
      "A clincian has labelled a referral with id 12.\n",
      "A clincian has labelled a referral with id 124.\n",
      "A clincian has labelled a referral with id 87.\n",
      "\u001b[38;5;4mℹ The status of Priority0 has changed to\n",
      "\u001b[1;38;5;16;48;5;3mWARNING\u001b[0m\u001b[0m\n",
      "\u001b[38;5;4mℹ The status of Priority1 has changed to\n",
      "\u001b[1;38;5;16;48;5;3mWARNING\u001b[0m\u001b[0m\n",
      "A GP has created a referral with id 130.\n",
      "A clincian has labelled a referral with id 125.\n",
      "A clincian has labelled a referral with id 128.\n",
      "\u001b[38;5;4mℹ The status of Priority0 has changed to\n",
      "\u001b[1;38;5;16;48;5;1mDRIFT\u001b[0m\u001b[0m\n",
      "\u001b[38;5;4mℹ The status of Priority1 has changed to\n",
      "\u001b[1;38;5;16;48;5;1mDRIFT\u001b[0m\u001b[0m\n",
      "A GP has created a referral with id 131.\n",
      "A clincian has labelled a referral with id 131.\n",
      "A clincian has labelled a referral with id 102.\n",
      "A clincian has labelled a referral with id 97.\n",
      "A GP has created a referral with id 132.\n",
      "A clincian has labelled a referral with id 121.\n",
      "A clincian has labelled a referral with id 132.\n",
      "A clincian has labelled a referral with id 111.\n",
      "A GP has created a referral with id 133.\n",
      "A GP has created a referral with id 134.\n",
      "A GP has created a referral with id 135.\n",
      "A GP has created a referral with id 136.\n",
      "A GP has created a referral with id 137.\n",
      "A GP has created a referral with id 138.\n",
      "A clincian has labelled a referral with id 113.\n",
      "A GP has created a referral with id 139.\n",
      "A clincian has labelled a referral with id 135.\n",
      "A GP has created a referral with id 140.\n",
      "A clincian has labelled a referral with id 119.\n",
      "A GP has created a referral with id 141.\n",
      "A GP has created a referral with id 142.\n",
      "A clincian has labelled a referral with id 92.\n",
      "A GP has created a referral with id 143.\n",
      "A clincian has labelled a referral with id 98.\n",
      "A GP has created a referral with id 144.\n",
      "A GP has created a referral with id 145.\n",
      "A clincian has labelled a referral with id 139.\n",
      "A clincian has labelled a referral with id 112.\n",
      "A GP has created a referral with id 146.\n",
      "A clincian has labelled a referral with id 146.\n",
      "A GP has created a referral with id 147.\n",
      "A clincian has labelled a referral with id 127.\n",
      "\u001b[38;5;4mℹ The status of Concept Drift has changed to\n",
      "\u001b[1;38;5;16;48;5;1mDRIFT\u001b[0m\u001b[0m\n",
      "A clincian has labelled a referral with id 129.\n",
      "A GP has created a referral with id 148.\n",
      "A GP has created a referral with id 149.\n",
      "A GP has created a referral with id 150.\n",
      "A clincian has labelled a referral with id 130.\n",
      "A GP has created a referral with id 151.\n",
      "A GP has created a referral with id 152.\n",
      "A clincian has labelled a referral with id 105.\n",
      "A GP has created a referral with id 153.\n",
      "A clincian has labelled a referral with id 122.\n",
      "A clincian has labelled a referral with id 95.\n",
      "A clincian has labelled a referral with id 147.\n",
      "A GP has created a referral with id 154.\n",
      "A GP has created a referral with id 155.\n",
      "A clincian has labelled a referral with id 141.\n",
      "A clincian has labelled a referral with id 154.\n",
      "A clincian has labelled a referral with id 133.\n",
      "A GP has created a referral with id 156.\n",
      "A GP has created a referral with id 157.\n",
      "A clincian has labelled a referral with id 117.\n",
      "A clincian has labelled a referral with id 134.\n",
      "A clincian has labelled a referral with id 33.\n",
      "A GP has created a referral with id 158.\n",
      "A GP has created a referral with id 159.\n",
      "A clincian has labelled a referral with id 155.\n",
      "A GP has created a referral with id 160.\n",
      "A GP has created a referral with id 161.\n",
      "A clincian has labelled a referral with id 107.\n",
      "A GP has created a referral with id 162.\n",
      "A GP has created a referral with id 163.\n",
      "A GP has created a referral with id 164.\n",
      "A GP has created a referral with id 165.\n",
      "A clincian has labelled a referral with id 150.\n",
      "A clincian has labelled a referral with id 162.\n",
      "A GP has created a referral with id 166.\n",
      "A clincian has labelled a referral with id 159.\n",
      "A GP has created a referral with id 167.\n",
      "A GP has created a referral with id 168.\n",
      "A GP has created a referral with id 169.\n",
      "A clincian has labelled a referral with id 153.\n",
      "A GP has created a referral with id 170.\n",
      "A GP has created a referral with id 171.\n",
      "A clincian has labelled a referral with id 158.\n",
      "A clincian has labelled a referral with id 138.\n",
      "A clincian has labelled a referral with id 136.\n",
      "A GP has created a referral with id 172.\n",
      "A GP has created a referral with id 173.\n",
      "A GP has created a referral with id 174.\n",
      "A clincian has labelled a referral with id 99.\n",
      "A GP has created a referral with id 175.\n",
      "A clincian has labelled a referral with id 80.\n",
      "A clincian has labelled a referral with id 163.\n",
      "A clincian has labelled a referral with id 142.\n",
      "A GP has created a referral with id 176.\n",
      "A GP has created a referral with id 177.\n",
      "A GP has created a referral with id 178.\n",
      "A GP has created a referral with id 179.\n",
      "A GP has created a referral with id 180.\n"
     ]
    }
   ],
   "source": [
    "for t in range(100):\n",
    "    if random.random() < 0.5:\n",
    "        new_referral()\n",
    "    else:\n",
    "        new_label()"
   ]
  },
  {
   "cell_type": "code",
   "execution_count": 42,
   "metadata": {},
   "outputs": [
    {
     "name": "stdout",
     "output_type": "stream",
     "text": [
      "\u001b[38;5;1m✘ Concept drift detected.\u001b[0m\n",
      "\u001b[38;5;1m✘ Feature drift detected on the following: Feature0, Feature1,\n",
      "Feature2, Feature3, Feature4, Feature6, Feature8, Feature9\u001b[0m\n",
      "\u001b[38;5;1m✘ Label drift detected on the following: Priority0, Priority1\u001b[0m\n"
     ]
    }
   ],
   "source": [
    "detector.get_status()"
   ]
  },
  {
   "cell_type": "markdown",
   "metadata": {},
   "source": [
    "First, the drift in `Feature5` was detected. \n",
    "\n",
    "Next, changes in the distribution of `Priority0` and `Priority1` were detected, due to the changes in the distribution of the predictions.\n",
    "\n",
    "Finally, concept drift was detecting, due to a change in the error rate. Rather than directly detecting changes in $P(y|x)$, which is very hard, drift detectors instead look for an increase in $P(\\hat{y}=y)$, where $\\hat{y}$ is the predicted label and $P(y)$ is the true label."
   ]
  },
  {
   "cell_type": "code",
   "execution_count": null,
   "metadata": {},
   "outputs": [],
   "source": []
  }
 ],
 "metadata": {
  "kernelspec": {
   "display_name": "Python [conda env:triage_drift_env]",
   "language": "python",
   "name": "conda-env-triage_drift_env-py"
  },
  "language_info": {
   "codemirror_mode": {
    "name": "ipython",
    "version": 3
   },
   "file_extension": ".py",
   "mimetype": "text/x-python",
   "name": "python",
   "nbconvert_exporter": "python",
   "pygments_lexer": "ipython3",
   "version": "3.8.1"
  }
 },
 "nbformat": 4,
 "nbformat_minor": 2
}
